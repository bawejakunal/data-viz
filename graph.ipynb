{
 "cells": [
  {
   "cell_type": "markdown",
   "metadata": {},
   "source": [
    "# Hello World Welcome to Data Vizualization with Python"
   ]
  },
  {
   "cell_type": "markdown",
   "metadata": {},
   "source": [
    "### A simple plot example for y-axis values"
   ]
  },
  {
   "cell_type": "code",
   "execution_count": 1,
   "metadata": {
    "collapsed": false,
    "scrolled": true
   },
   "outputs": [
    {
     "data": {
      "text/plain": [
       "<matplotlib.text.Text at 0x7f80c6957c50>"
      ]
     },
     "execution_count": 1,
     "metadata": {},
     "output_type": "execute_result"
    }
   ],
   "source": [
    "import matplotlib.pyplot as plt\n",
    "plt.plot([1,2,3,4])\n",
    "plt.ylabel('y-axis label')\n",
    "plt.xlabel('x-axis label')\n",
    "# plt.show()"
   ]
  },
  {
   "cell_type": "markdown",
   "metadata": {},
   "source": [
    "### How to pass x-axis values ?"
   ]
  },
  {
   "cell_type": "code",
   "execution_count": 2,
   "metadata": {
    "collapsed": false,
    "scrolled": true
   },
   "outputs": [
    {
     "data": {
      "text/plain": [
       "[<matplotlib.lines.Line2D at 0x7f80c68f1650>]"
      ]
     },
     "execution_count": 2,
     "metadata": {},
     "output_type": "execute_result"
    }
   ],
   "source": [
    "plt.grid(True) #show grid on graph\n",
    "plt.plot([1, 2, 3, 4], [1, 4, 9, 16]) # y = x^2 equation plotted here\n",
    "# plt.show()"
   ]
  },
  {
   "cell_type": "markdown",
   "metadata": {},
   "source": [
    "## Change line color and style ?"
   ]
  },
  {
   "cell_type": "code",
   "execution_count": 19,
   "metadata": {
    "collapsed": false
   },
   "outputs": [
    {
     "data": {
      "image/png": "[encoded data removed]",
      "text/plain": [
       "<matplotlib.figure.Figure at 0x7fc3281cdf50>"
      ]
     },
     "metadata": {},
     "output_type": "display_data"
    }
   ],
   "source": [
    "plt.plot([1, 2, 3, 4], [1, 4, 9, 16], 'r--') # red dashed line, try 'bs' and 'g^' ?\n",
    "plt.show()"
   ]
  },
  {
   "cell_type": "markdown",
   "metadata": {},
   "source": [
    "## Works with numpy module as well"
   ]
  },
  {
   "cell_type": "code",
   "execution_count": 3,
   "metadata": {
    "collapsed": false
   },
   "outputs": [
    {
     "data": {
      "text/plain": [
       "[<matplotlib.lines.Line2D at 0x7f80c68f1dd0>]"
      ]
     },
     "execution_count": 3,
     "metadata": {},
     "output_type": "execute_result"
    }
   ],
   "source": [
    "import numpy\n",
    "\n",
    "x = numpy.arange(1, 10, 0.5) #create a numpy array in range 1 to 10 at intervals of 0.5\n",
    "\n",
    "plt.plot(x, x**3, 'go') #y = x^3 plot\n",
    "\n",
    "# plt.show()"
   ]
  },
  {
   "cell_type": "markdown",
   "metadata": {},
   "source": [
    "## Plot multiple graphs on same graph ?"
   ]
  },
  {
   "cell_type": "code",
   "execution_count": 4,
   "metadata": {
    "collapsed": false
   },
   "outputs": [
    {
     "data": {
      "text/plain": [
       "[<matplotlib.lines.Line2D at 0x7f80c69075d0>,\n",
       " <matplotlib.lines.Line2D at 0x7f80c6907650>,\n",
       " <matplotlib.lines.Line2D at 0x7f80c6907cd0>]"
      ]
     },
     "execution_count": 4,
     "metadata": {},
     "output_type": "execute_result"
    }
   ],
   "source": [
    "x = numpy.arange(1, 10, 0.5) #create a numpy array in range 1 to 10 at intervals of 0.5\n",
    "\n",
    "#multiple lines on same graph (assume same scale on axes)\n",
    "plt.plot(x, x**3, 'go', x, x**2, 'r--', x, x, 'b-') #y = x^3 plot\n",
    "\n",
    "# plt.show()"
   ]
  },
  {
   "cell_type": "markdown",
   "metadata": {},
   "source": [
    "## Control linewidth of a line ?"
   ]
  },
  {
   "cell_type": "code",
   "execution_count": 5,
   "metadata": {
    "collapsed": false
   },
   "outputs": [
    {
     "data": {
      "text/plain": [
       "[<matplotlib.lines.Line2D at 0x7f80c6907310>]"
      ]
     },
     "execution_count": 5,
     "metadata": {},
     "output_type": "execute_result"
    }
   ],
   "source": [
    "plt.plot(x, x, linewidth=10) #just use the keyword argument linewidth\n",
    "# plt.show()"
   ]
  },
  {
   "cell_type": "markdown",
   "metadata": {},
   "source": [
    "## Range of values on axes "
   ]
  },
  {
   "cell_type": "code",
   "execution_count": 6,
   "metadata": {
    "collapsed": false
   },
   "outputs": [],
   "source": [
    "#If no range is specified matplotlib takes the max and min from available data\n",
    "\n",
    "#create a range of values for x-axis\n",
    "x = numpy.arange(1,5,1) #Caution: careful with spelling here !\n",
    "\n",
    "#plot the graph\n",
    "plt.plot(x, x**2)\n",
    "\n",
    "#specify maximum axes values\n",
    "plt.axis([0, 6, 0, 20]) # [xmin, xmax, ymin, ymax]\n",
    "\n",
    "#turn on grid for visualization\n",
    "plt.grid(True) #order of methods does not matter as long as before .show()\n",
    "\n",
    "#see what you got ?\n",
    "# plt.show()"
   ]
  },
  {
   "cell_type": "markdown",
   "metadata": {},
   "source": [
    "## How do I save my graphs ??"
   ]
  },
  {
   "cell_type": "code",
   "execution_count": 8,
   "metadata": {
    "collapsed": false
   },
   "outputs": [],
   "source": [
    "# This is easy, just one condition to be followed\n",
    "# Use matplotlib backend 'engines'\n",
    "# This might be bit tricky so pay attention :)\n",
    "\n",
    "# IMPORTANT: You need to specify this before importing pyplot from matplotlib\n",
    "\n",
    "# Some popular ones are: \n",
    "# AGG - \n",
    "# PS - postscript format\n",
    "# PDF - Portable Document file (.pdf)\n",
    "\n",
    "import matplotlib\n",
    "\n",
    "matplotlib.use('AGG') # This is required to before importing pyplot\n",
    "\n",
    "import matplotlib.pyplot as plt\n",
    "\n",
    "#lets plot and save our graph\n",
    "\n",
    "x = numpy.arange(1,5,0.1) # 1 to 5 at intervals of 0.1\n",
    "\n",
    "y = x**2 #y = x^2\n",
    "\n",
    "# create a figure\n",
    "# this is like a blank canvas where you can have multiple graphs\n",
    "fig = plt.figure()\n",
    "\n",
    "#add a subplot to the figure\n",
    "ax = fig.add_subplot(111)\n",
    "\n",
    "#Now plot a scatter plot on the ax subplot\n",
    "ax.scatter(x, y)\n",
    "\n",
    "# save the fig that we created\n",
    "# subplot gets embedded in that\n",
    "fig.savefig('graph')\n",
    "\n",
    "#close the image file, no more edits can be made after this\n",
    "# plt.close(fig)"
   ]
  },
  {
   "cell_type": "markdown",
   "metadata": {},
   "source": [
    "## Complex mathematical models "
   ]
  },
  {
   "cell_type": "code",
   "execution_count": 9,
   "metadata": {
    "collapsed": false
   },
   "outputs": [],
   "source": [
    "\"\"\"\n",
    "matplotlib can be passed input in a variety of ways\n",
    "\"\"\"\n",
    "\n",
    "import numpy as np\n",
    "import matplotlib\n",
    "matplotlib.use('PDF') #let us save a pdf this time\n",
    "import matplotlib.pyplot as plt\n",
    "\n",
    "# some complex value transformation\n",
    "# you can define your own as well !\n",
    "def f(t):\n",
    "    return np.exp(-t) * np.cos(2*np.pi*t)\n",
    "\n",
    "#create two x-axis arrays\n",
    "x1 = np.arange(0.0, 5.0, 0.1)\n",
    "x2 = np.arange(0.0, 5.0, 0.02)\n",
    "\n",
    "#specify dimensions to avoid small figure\n",
    "fig = plt.figure(figsize=(12, 8))\n",
    "\n",
    "#create a subplot\n",
    "# a1 = fig.add_subplot(211)\n",
    "\n",
    "# two different domains on same subplot\n",
    "# note that y-axis argument is a python method\n",
    "# For each x-axis value f() is called to get y value \n",
    "\n",
    "# a1.plot(x1, f(x1), 'ro', x2, f(x2), 'g--')\n",
    "\n",
    "#create one more subplot\n",
    "# a2 = fig.add_subplot(212) # we examine these numeral arguments in a bit\n",
    "\n",
    "#plot the second subplot as a sine curve\n",
    "# a2.plot(x2, 5 * x2)\n",
    "# a2.set_ylabel('cost')\n",
    "# a2.set_xlabel('quantity')\n",
    "\n",
    "#save the figure\n",
    "#NOTE: You need to specify format because default is still png\n",
    "# fig.savefig('multigraph.pdf', format='pdf')\n",
    "\n",
    "\n",
    "#close the figure\n",
    "# plt.close(fig)"
   ]
  },
  {
   "cell_type": "markdown",
   "metadata": {},
   "source": [
    "## 1. What is 212 in fig.add_subplot(212) ?\n",
    "\n",
    "It defines the 'figure' as a grid of rectangles.\n",
    "\n",
    "It is equivalent to `fig.add_subplot(2, 1, 2)`\n",
    "\n",
    "Read it as **On a figure of 2 rows and 1 column, add the subplot in 2nd grid**"
   ]
  },
  {
   "cell_type": "markdown",
   "metadata": {},
   "source": [
    "# Scatter Plot"
   ]
  },
  {
   "cell_type": "code",
   "execution_count": 10,
   "metadata": {
    "collapsed": false
   },
   "outputs": [],
   "source": [
    "import pandas\n",
    "import matplotlib.pyplot as plt\n",
    "\n",
    "#read csv file using pandas\n",
    "# cars = pandas.read_csv('cars.csv')\n",
    "\n",
    "#peek at first 5 rows\n",
    "# cars.head()"
   ]
  },
  {
   "cell_type": "code",
   "execution_count": 147,
   "metadata": {
    "collapsed": false
   },
   "outputs": [],
   "source": [
    "city_mpg = cars['city-mpg'].values #convert pandas series to a numpy array\n",
    "\n",
    "highway_mpg = cars['highway-mpg'].values #convert pandas series to a numpy array"
   ]
  },
  {
   "cell_type": "code",
   "execution_count": 12,
   "metadata": {
    "collapsed": false,
    "scrolled": false
   },
   "outputs": [],
   "source": [
    "#Now scatter plot\n",
    "# plt.scatter(city_mpg, highway_mpg, color='red')\n",
    "# plt.title('Highway MPG v/s City MPG')\n",
    "# plt.ylabel('Highway MPG')\n",
    "# plt.xlabel('City MPG')\n",
    "# plt.show()"
   ]
  },
  {
   "cell_type": "markdown",
   "metadata": {},
   "source": [
    "# Bar Graph"
   ]
  },
  {
   "cell_type": "code",
   "execution_count": 171,
   "metadata": {
    "collapsed": false
   },
   "outputs": [
    {
     "name": "stdout",
     "output_type": "stream",
     "text": [
      "gas       185\n",
      "diesel     20\n",
      "Name: fuel-type, dtype: int64\n",
      "['gas', 'diesel']\n",
      "[185, 20]\n"
     ]
    }
   ],
   "source": [
    "#Lets take a count of how many cars run on diesel and gas respectively\n",
    "\n",
    "fuel_counts = cars['fuel-type'].value_counts()\n",
    "print fuel_counts\n",
    "\n",
    "# extract different type of fuels\n",
    "fuel = list(fuel_counts.keys())\n",
    "print fuel\n",
    "\n",
    "#for each fuel type get the count in a separate list\n",
    "counts = [fuel_counts[ft] for ft in fuel]\n",
    "print counts"
   ]
  },
  {
   "cell_type": "code",
   "execution_count": 17,
   "metadata": {
    "collapsed": false
   },
   "outputs": [],
   "source": [
    "#make the bar graph\n",
    "\n",
    "#Can you guess why we are doing this step ?\n",
    "# x_pos = np.arange(len(fuel))\n",
    "\n",
    "#make bar graph of counts v/s x-pos\n",
    "# plt.bar(x_pos, counts, align='center', alpha=0.5)\n",
    "\n",
    "#assign labels on x-pos\n",
    "# plt.xticks(x_pos, fuel)\n",
    "\n",
    "#label on y-axis\n",
    "# plt.ylabel('Counts')\n",
    "\n",
    "#let see our creation\n",
    "# plt.show()"
   ]
  },
  {
   "cell_type": "markdown",
   "metadata": {},
   "source": [
    "# Histogram"
   ]
  },
  {
   "cell_type": "code",
   "execution_count": 24,
   "metadata": {
    "collapsed": false
   },
   "outputs": [],
   "source": [
    "# prices = cars['price'].tolist()\n",
    "\n",
    "# slight data cleaning is required for price column\n",
    "# prices = [int(price) for price in prices if price != '?'] #convert to integers, ignore unknown prices"
   ]
  },
  {
   "cell_type": "code",
   "execution_count": 21,
   "metadata": {
    "collapsed": false
   },
   "outputs": [],
   "source": [
    "#plot histogram\n",
    "# price_bins = range(0, 50001, 10000) # 0 to 50000 in 10000 steps\n",
    "# print price_bins\n",
    "\n",
    "#hist itself takes counts in each range of bins\n",
    "# plt.hist(prices, bins=price_bins, color='orange')\n",
    "\n",
    "# plt.show()"
   ]
  },
  {
   "cell_type": "code",
   "execution_count": null,
   "metadata": {
    "collapsed": true
   },
   "outputs": [],
   "source": []
  }
 ],
 "metadata": {
  "kernelspec": {
   "display_name": "Python 2",
   "language": "python",
   "name": "python2"
  },
  "language_info": {
   "codemirror_mode": {
    "name": "ipython",
    "version": 2
   },
   "file_extension": ".py",
   "mimetype": "text/x-python",
   "name": "python",
   "nbconvert_exporter": "python",
   "pygments_lexer": "ipython2",
   "version": "2.7.12"
  }
 },
 "nbformat": 4,
 "nbformat_minor": 2
}
